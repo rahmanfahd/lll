{
 "cells": [
  {
   "cell_type": "markdown",
   "metadata": {},
   "source": [
    "## HAECO Data Report Collation"
   ]
  },
  {
   "cell_type": "code",
   "execution_count": 1,
   "metadata": {},
   "outputs": [],
   "source": [
    "import pandas as pd\n",
    "import numpy as np"
   ]
  },
  {
   "cell_type": "markdown",
   "metadata": {},
   "source": [
    "#### Main Index file"
   ]
  },
  {
   "cell_type": "code",
   "execution_count": 2,
   "metadata": {},
   "outputs": [],
   "source": [
    "file_name = '/Users/rahmanfahd/Downloads/Copy of HMA100-20210802.xlsx' \n",
    "alls = pd.read_excel(file_name, index_col=None)"
   ]
  },
  {
   "cell_type": "code",
   "execution_count": 3,
   "metadata": {},
   "outputs": [],
   "source": [
    "alls.Status.value_counts()\n",
    "alls1 = alls.loc[(alls['Status'] == 'ACTIVE')| (alls['Status'] == 'TERMINATING')]\n",
    "alls1 = alls1[alls1['Home Section'].str.contains(\"^(?:0B|09|0G|0S|AC|CS|0JB|0J9|0JS|0JCS|0JNT)\")|alls1['Current Section'].str.contains(\"^(?:0B|09|0G|0S|AC|CS|0JB|0J9|0JS|0JCS|0JNT)\")]\n",
    "alls1 = alls1.rename(columns={'Staff No': 'Staff No.'})\n",
    "\n",
    "#alls.head(10)\n",
    "#alls1.count()\n",
    "#alls1['Staff No'].dtypes\n",
    "#alls1['Staff No.'] = alls1['Staff No'].astype(str).str.zfill(6)"
   ]
  },
  {
   "cell_type": "code",
   "execution_count": 4,
   "metadata": {},
   "outputs": [],
   "source": [
    "final = alls1[['Staff No.','Staff Name','Home Section']]"
   ]
  },
  {
   "cell_type": "markdown",
   "metadata": {},
   "source": [
    "#### License data"
   ]
  },
  {
   "cell_type": "code",
   "execution_count": 5,
   "metadata": {},
   "outputs": [],
   "source": [
    "file_name = '/Users/rahmanfahd/Downloads/QA_Lic_Full_Detailed_List-20220411.xlsx' \n",
    "lic = pd.read_excel(file_name, index_col=None)"
   ]
  },
  {
   "cell_type": "code",
   "execution_count": 6,
   "metadata": {},
   "outputs": [],
   "source": [
    "lic = lic.iloc[6:]\n",
    "lic.columns = lic.iloc[0]\n",
    "lic = lic[1:]\n",
    "lic = lic.iloc[1:]\n",
    "\n",
    "lic['bl'] = lic['Module Properties-Module Title'].str.split('_').str[1]\n",
    "lic['bl'] = lic['bl'].str.split('/').str[0]\n",
    "lic['Basic License'] = np.where(lic['bl']=='FAA','FAA',lic['Module Properties-Module Title'].str.split('/').str[3])\n",
    "lic['Basic License'] = np.where(((lic['bl']=='HKCAD')|(lic['bl']=='FAA')),lic['Basic License'], 'NDT' )\n",
    "lic['Basic License'] = lic['Basic License'].replace(['B1.1'],'B1')\n",
    "lic = lic[lic['Basic License'] != '--']\n",
    "\n",
    "#lic['User Properties-Employee Number'].nunique()\n",
    "lic2 = lic.groupby(['User Properties-Employee Number'])['Basic License'].apply('/'.join).reset_index()\n",
    "lic2 = lic.groupby(['User Properties-Employee Number'])['Basic License'].apply('/ '.join).reset_index()\n",
    "lic2['Basic License'] = lic2['Basic License'].str.split('/ ').apply(pd.unique)\n",
    "lic2['Basic License'] = lic2['Basic License'].str.join('/ ')"
   ]
  },
  {
   "cell_type": "code",
   "execution_count": 7,
   "metadata": {},
   "outputs": [],
   "source": [
    "lic2 = lic2.rename(columns={'User Properties-Employee Number': 'Staff No.'})\n",
    "final = pd.merge(final, lic2, on=\"Staff No.\", how='left' )"
   ]
  },
  {
   "cell_type": "markdown",
   "metadata": {},
   "source": [
    "#### Authorization AC data"
   ]
  },
  {
   "cell_type": "code",
   "execution_count": 8,
   "metadata": {},
   "outputs": [],
   "source": [
    "file_name = '/Users/rahmanfahd/Downloads/HCA114_Auth-HX-20210802.xlsx' \n",
    "auth = pd.read_excel(file_name, index_col=None)"
   ]
  },
  {
   "cell_type": "code",
   "execution_count": 9,
   "metadata": {},
   "outputs": [],
   "source": [
    "def rename(df,column):\n",
    "    df[column] = df[column].replace(['A332','A333','A332F','A333F','A339'],'A330')\n",
    "    df[column] = df[column].replace(['A343','A342'],'A340')\n",
    "    df[column] = df[column].replace(['B77W','B772','B773','B77LF','B77L'],'B777')\n",
    "    df[column] = df[column].replace(['B763','B763F','B764','B762F','B762'],'B767')\n",
    "    df[column] = df[column].replace(['A359','A35K'],'A350')\n",
    "    df[column] = df[column].replace(['B789','B788','B78X'],'B787')\n",
    "    df[column] = df[column].replace(['MD11F','MD11'],'MD11')\n",
    "    df[column] = df[column].replace(['A319','A318','A321','A20N','A21N'],'A320')\n",
    "    df[column] = df[column].replace(['B753','B752'],'B757')\n",
    "    df[column] = df[column].replace(['B753','B752'],'B757')\n",
    "    df[column] = df[column].replace(['A306','A306F'],'A300')\n",
    "    df[column] = df[column].replace(['B738','B737','B739','B736'],'B737NG')\n",
    "    df[column] = df[column].replace(['A388'],'A380')\n",
    "    df[column] = df[column].replace(['B744F'],'B747-400')\n",
    "    df[column] = df[column].replace(['B748I','B748F'],'B747-8')\n",
    "    df[column] = df[column].replace(['B744'],'B747-Classic')\n",
    "    df[column] = df[column].replace(['B747'],'B747-Classic')"
   ]
  },
  {
   "cell_type": "code",
   "execution_count": 10,
   "metadata": {},
   "outputs": [],
   "source": [
    "auth['Auth AC'] = auth['Aircraft Type']\n",
    "rename(auth,'Auth AC')\n",
    "auth1 = auth.groupby(['Staff Name','Staff No.'])['Auth AC'].apply(', '.join).reset_index()\n",
    "auth1['Auth AC'] = auth1['Auth AC'].str.split(', ').apply(pd.unique)\n",
    "auth1['Auth AC'] = auth1['Auth AC'].str.join(', ')"
   ]
  },
  {
   "cell_type": "code",
   "execution_count": 11,
   "metadata": {},
   "outputs": [],
   "source": [
    "#auth1 = auth1.rename(columns={'Staff No.': 'Staff No'})\n",
    "final = pd.merge(final, auth1[['Staff No.','Auth AC']], on=\"Staff No.\", how='left')"
   ]
  },
  {
   "cell_type": "markdown",
   "metadata": {},
   "source": [
    "#### Authorization AC/Engine data"
   ]
  },
  {
   "cell_type": "code",
   "execution_count": 12,
   "metadata": {},
   "outputs": [],
   "source": [
    "auth['Auth Eng'] = auth['Auth AC'] + \"/\" +auth['Engine Type']\n",
    "auth2 = auth.groupby(['Staff Name','Staff No.'])['Auth Eng'].apply(', '.join).reset_index()\n",
    "auth2['Auth Eng'] = auth2['Auth Eng'].str.split(', ').apply(pd.unique)\n",
    "auth2['Auth Eng'] = auth2['Auth Eng'].str.join(', ')"
   ]
  },
  {
   "cell_type": "code",
   "execution_count": 13,
   "metadata": {},
   "outputs": [],
   "source": [
    "#auth2 = auth2.rename(columns={'Staff No.': 'Staff No'})\n",
    "final = pd.merge(final, auth2[['Staff No.','Auth Eng']],on=\"Staff No.\", how='left' )"
   ]
  },
  {
   "cell_type": "code",
   "execution_count": 14,
   "metadata": {},
   "outputs": [
    {
     "data": {
      "text/html": [
       "<div>\n",
       "<style scoped>\n",
       "    .dataframe tbody tr th:only-of-type {\n",
       "        vertical-align: middle;\n",
       "    }\n",
       "\n",
       "    .dataframe tbody tr th {\n",
       "        vertical-align: top;\n",
       "    }\n",
       "\n",
       "    .dataframe thead th {\n",
       "        text-align: right;\n",
       "    }\n",
       "</style>\n",
       "<table border=\"1\" class=\"dataframe\">\n",
       "  <thead>\n",
       "    <tr style=\"text-align: right;\">\n",
       "      <th></th>\n",
       "      <th>Staff No.</th>\n",
       "      <th>Staff Name</th>\n",
       "      <th>Home Section</th>\n",
       "      <th>Basic License</th>\n",
       "      <th>Auth AC</th>\n",
       "      <th>Auth Eng</th>\n",
       "    </tr>\n",
       "  </thead>\n",
       "  <tbody>\n",
       "    <tr>\n",
       "      <th>0</th>\n",
       "      <td>74659</td>\n",
       "      <td>LAW HING CHOY</td>\n",
       "      <td>0BA4</td>\n",
       "      <td>NaN</td>\n",
       "      <td>A330, B777</td>\n",
       "      <td>A330/T700, B777/--</td>\n",
       "    </tr>\n",
       "    <tr>\n",
       "      <th>1</th>\n",
       "      <td>75540</td>\n",
       "      <td>FAN KWAI ON</td>\n",
       "      <td>CSDY</td>\n",
       "      <td>NaN</td>\n",
       "      <td>--</td>\n",
       "      <td>--/--</td>\n",
       "    </tr>\n",
       "    <tr>\n",
       "      <th>2</th>\n",
       "      <td>77554</td>\n",
       "      <td>TSE CHI BIU</td>\n",
       "      <td>0GMR</td>\n",
       "      <td>NaN</td>\n",
       "      <td>--</td>\n",
       "      <td>--/--</td>\n",
       "    </tr>\n",
       "    <tr>\n",
       "      <th>3</th>\n",
       "      <td>77687</td>\n",
       "      <td>KUEN SHUI BUN</td>\n",
       "      <td>0STY</td>\n",
       "      <td>NaN</td>\n",
       "      <td>--</td>\n",
       "      <td>--/--</td>\n",
       "    </tr>\n",
       "    <tr>\n",
       "      <th>4</th>\n",
       "      <td>77760</td>\n",
       "      <td>TAM CHING SHAN</td>\n",
       "      <td>CSNT</td>\n",
       "      <td>NaN</td>\n",
       "      <td>--</td>\n",
       "      <td>--/--</td>\n",
       "    </tr>\n",
       "    <tr>\n",
       "      <th>...</th>\n",
       "      <td>...</td>\n",
       "      <td>...</td>\n",
       "      <td>...</td>\n",
       "      <td>...</td>\n",
       "      <td>...</td>\n",
       "      <td>...</td>\n",
       "    </tr>\n",
       "    <tr>\n",
       "      <th>1557</th>\n",
       "      <td>342014</td>\n",
       "      <td>CHAN WAI KIU</td>\n",
       "      <td>0JSP</td>\n",
       "      <td>NaN</td>\n",
       "      <td>NaN</td>\n",
       "      <td>NaN</td>\n",
       "    </tr>\n",
       "    <tr>\n",
       "      <th>1558</th>\n",
       "      <td>342022</td>\n",
       "      <td>HUANG CHUN YAM</td>\n",
       "      <td>0JSP</td>\n",
       "      <td>NaN</td>\n",
       "      <td>NaN</td>\n",
       "      <td>NaN</td>\n",
       "    </tr>\n",
       "    <tr>\n",
       "      <th>1559</th>\n",
       "      <td>342030</td>\n",
       "      <td>LI PEI YI</td>\n",
       "      <td>0JSP</td>\n",
       "      <td>NaN</td>\n",
       "      <td>NaN</td>\n",
       "      <td>NaN</td>\n",
       "    </tr>\n",
       "    <tr>\n",
       "      <th>1560</th>\n",
       "      <td>342048</td>\n",
       "      <td>SO LING FUNG</td>\n",
       "      <td>0JSP</td>\n",
       "      <td>NaN</td>\n",
       "      <td>NaN</td>\n",
       "      <td>NaN</td>\n",
       "    </tr>\n",
       "    <tr>\n",
       "      <th>1561</th>\n",
       "      <td>342056</td>\n",
       "      <td>WONG HON YAM</td>\n",
       "      <td>0JSP</td>\n",
       "      <td>NaN</td>\n",
       "      <td>NaN</td>\n",
       "      <td>NaN</td>\n",
       "    </tr>\n",
       "  </tbody>\n",
       "</table>\n",
       "<p>1562 rows × 6 columns</p>\n",
       "</div>"
      ],
      "text/plain": [
       "      Staff No.      Staff Name Home Section Basic License     Auth AC  \\\n",
       "0         74659   LAW HING CHOY         0BA4           NaN  A330, B777   \n",
       "1         75540     FAN KWAI ON         CSDY           NaN          --   \n",
       "2         77554     TSE CHI BIU         0GMR           NaN          --   \n",
       "3         77687   KUEN SHUI BUN         0STY           NaN          --   \n",
       "4         77760  TAM CHING SHAN         CSNT           NaN          --   \n",
       "...         ...             ...          ...           ...         ...   \n",
       "1557     342014    CHAN WAI KIU         0JSP           NaN         NaN   \n",
       "1558     342022  HUANG CHUN YAM         0JSP           NaN         NaN   \n",
       "1559     342030       LI PEI YI         0JSP           NaN         NaN   \n",
       "1560     342048    SO LING FUNG         0JSP           NaN         NaN   \n",
       "1561     342056    WONG HON YAM         0JSP           NaN         NaN   \n",
       "\n",
       "                Auth Eng  \n",
       "0     A330/T700, B777/--  \n",
       "1                  --/--  \n",
       "2                  --/--  \n",
       "3                  --/--  \n",
       "4                  --/--  \n",
       "...                  ...  \n",
       "1557                 NaN  \n",
       "1558                 NaN  \n",
       "1559                 NaN  \n",
       "1560                 NaN  \n",
       "1561                 NaN  \n",
       "\n",
       "[1562 rows x 6 columns]"
      ]
     },
     "execution_count": 14,
     "metadata": {},
     "output_type": "execute_result"
    }
   ],
   "source": [
    "final"
   ]
  },
  {
   "cell_type": "markdown",
   "metadata": {},
   "source": [
    "#### License AC/Engine data"
   ]
  },
  {
   "cell_type": "code",
   "execution_count": 15,
   "metadata": {},
   "outputs": [],
   "source": [
    "lic['AC']=lic['Module Properties-Module Title'].str.split('/').str[1]\n",
    "lic['AC'] = lic['AC'].str.split('_').str[0]\n",
    "lic['Lic AC'] = np.where(lic['AC']!='B747-400',lic['AC'].str.split('-').str[0],'B747-400')\n",
    "lic = lic.loc[lic['AC'] != '--']\n",
    "rename(lic,'Lic AC')\n",
    "lic1 = lic.groupby(['User Properties-Employee Number'])['Lic AC'].apply(', '.join).reset_index()\n",
    "lic1['Lic AC'] = lic1['Lic AC'].str.split(', ').apply(pd.unique)\n",
    "lic1['Lic AC']  = lic1['Lic AC'] .str.join(', ')"
   ]
  },
  {
   "cell_type": "code",
   "execution_count": 16,
   "metadata": {},
   "outputs": [
    {
     "data": {
      "text/plain": [
       "0                           B737NG, B747-400, B767, B777\n",
       "1      A300, A310, A320, A330, A340, B747-Classic, B7...\n",
       "2               B747-400, B747-Classic, B767, B777, B787\n",
       "3         A320, A330, A340, B747-Classic, B747-400, B777\n",
       "4      A320, A330, A340, B747-Classic, B747-400, B757...\n",
       "                             ...                        \n",
       "158    A300, A320, A330, A340, B737NG, B747-Classic, ...\n",
       "159     A320, B737NG, B747-400, B747-Classic, B767, B777\n",
       "160    A320, A330, A340, B737NG, B747-Classic, B747-4...\n",
       "161       A330, A340, B747-Classic, B747-400, B767, B777\n",
       "162             A330, A340, B747-Classic, B747-400, B777\n",
       "Name: Lic AC, Length: 163, dtype: object"
      ]
     },
     "execution_count": 16,
     "metadata": {},
     "output_type": "execute_result"
    }
   ],
   "source": [
    "lic1['Lic AC']"
   ]
  },
  {
   "cell_type": "code",
   "execution_count": 17,
   "metadata": {},
   "outputs": [],
   "source": [
    "lic1 = lic1.rename(columns={'User Properties-Employee Number': 'Staff No.'})\n",
    "final = pd.merge(final, lic1,  on=\"Staff No.\", how='left' )"
   ]
  },
  {
   "cell_type": "code",
   "execution_count": 18,
   "metadata": {},
   "outputs": [],
   "source": [
    "lic['engines']=lic['Module Properties-Module Title'].str.split('/').str[2]\n",
    "lic = lic.loc[lic['engines'] != '--']\n",
    "lic['Lic Eng'] = lic['Lic AC'] + \"/\" + lic['engines']\n",
    "lic3 = lic.groupby(['User Properties-Employee Number'])['Lic Eng'].apply(', '.join).reset_index()\n",
    "lic3['Lic Eng'] = lic3['Lic Eng'].str.split(', ').apply(pd.unique)\n",
    "lic3['Lic Eng'] = lic3['Lic Eng'].str.join(', ')"
   ]
  },
  {
   "cell_type": "code",
   "execution_count": 19,
   "metadata": {},
   "outputs": [],
   "source": [
    "lic3 = lic3.rename(columns={'User Properties-Employee Number': 'Staff No.'})\n",
    "final = pd.merge(final, lic3,  on=\"Staff No.\",how='left' )"
   ]
  },
  {
   "cell_type": "markdown",
   "metadata": {},
   "source": [
    "#### Engrun data"
   ]
  },
  {
   "cell_type": "code",
   "execution_count": 20,
   "metadata": {},
   "outputs": [],
   "source": [
    "file_name = '/Users/rahmanfahd/Downloads/QA_Auth_Full_Detailed_List-20220411.xlsx' \n",
    "auths = pd.read_excel(file_name, index_col=None)"
   ]
  },
  {
   "cell_type": "code",
   "execution_count": 21,
   "metadata": {},
   "outputs": [],
   "source": [
    "auths = auths.iloc[6:]\n",
    "auths.columns = auths.iloc[0]\n",
    "auths = auths[1:]\n",
    "auths = auths.iloc[1:]\n",
    "\n",
    "auths['AC']=auths['Module Properties-Module ID'].str.split('_').str[0]\n",
    "auths['Cat']=auths['Module Properties-Module ID'].str.split('_').str[2]\n",
    "\n",
    "rename(auths,'AC')\n",
    "auths[\"Engrun\"] = np.where(auths['Cat']=='EGREXAMINER',auths['AC'] + \"/\" +auths['Module Properties-Module Title'].str.split(\"/\").str[1],\"\")\n",
    "\n",
    "auths4 = auths.groupby(['User Properties-Employee Number'])['Engrun'].apply(', '.join).reset_index()\n",
    "auths4['Engrun'] = auths4['Engrun'].str.split(', ').apply(pd.unique)\n",
    "auths4['Engrun'] = auths4['Engrun'].str.join(', ')"
   ]
  },
  {
   "cell_type": "code",
   "execution_count": 22,
   "metadata": {},
   "outputs": [],
   "source": [
    "auths4 = auths4.rename(columns={'User Properties-Employee Number': 'Staff No.'})\n",
    "final = pd.merge(final, auths4, on=\"Staff No.\", how='left' )"
   ]
  },
  {
   "cell_type": "markdown",
   "metadata": {},
   "source": [
    "#### Simulator Training Data"
   ]
  },
  {
   "cell_type": "code",
   "execution_count": 23,
   "metadata": {},
   "outputs": [],
   "source": [
    "file_name = '/Users/rahmanfahd/Downloads/HCA114_Trng-EGRSmltr-20210802.xlsx' \n",
    "sim = pd.read_excel(file_name, index_col=None)"
   ]
  },
  {
   "cell_type": "code",
   "execution_count": 24,
   "metadata": {},
   "outputs": [],
   "source": [
    "sim['AC Sim'] = sim['Course Title'].str.split(' ').str[0]\n",
    "sim['Examinar'] = np.where(sim['Course Title'].str.contains('Exam'),sim['AC Sim'], 'False')\n",
    "sim = sim[sim.groupby('Staff No.')['Course Completion Date'].transform('max') == sim['Course Completion Date']]"
   ]
  },
  {
   "cell_type": "code",
   "execution_count": 25,
   "metadata": {},
   "outputs": [],
   "source": [
    "#sim = sim.rename(columns={'Staff No.': 'Staff No'})\n",
    "final = pd.merge(final, sim[['Staff No.','AC Sim','Examinar']], on='Staff No.', how ='left')"
   ]
  },
  {
   "cell_type": "markdown",
   "metadata": {},
   "source": [
    "#### EASA Course Data"
   ]
  },
  {
   "cell_type": "code",
   "execution_count": 26,
   "metadata": {},
   "outputs": [],
   "source": [
    "file_name2 = '/Users/rahmanfahd/Downloads/HCA114_Trng-EASA-20210802.xlsx' \n",
    "easa_df = pd.read_excel(file_name2, index_col=None)"
   ]
  },
  {
   "cell_type": "code",
   "execution_count": 27,
   "metadata": {},
   "outputs": [],
   "source": [
    "easa_df1 = easa_df.groupby(['Staff No.','Staff Name','Course Code'])['Course Title'].apply(', '.join).reset_index()\n",
    "easa_df['Course Title'] = easa_df['Course Title'].replace({'EASA MOE & Company Procedure Training':'MOE', 'Aviation Legislation (M10) for EASA Part-66 Cat. B':'M10','Aviation Legislation Training for EASA Part-66 Cat. B':'M10','Human Factors (M9) for EASA Part-66 Cat. B':'M9','Human Factors (M9) for EASA Part-66 Cat. B (Multiple Choice)':'M9'})\n",
    "easa_df1 = easa_df.groupby(['Staff No.','Staff Name'])['Course Title'].apply(', '.join).reset_index()\n",
    "easa_df1['Course Title'] = easa_df1['Course Title'].str.split(', ').apply(pd.unique)\n",
    "easa_df1['EASA'] = easa_df1['Course Title'].str.join(', ')\n",
    "easa_df1['EASA'].apply(sorted);"
   ]
  },
  {
   "cell_type": "code",
   "execution_count": 28,
   "metadata": {},
   "outputs": [],
   "source": [
    "#easa_df1 = easa_df1.rename(columns={'Staff No.': 'Staff No'})\n",
    "final = pd.merge(final, easa_df1[['Staff No.','EASA']], on='Staff No.', how ='left')"
   ]
  },
  {
   "cell_type": "markdown",
   "metadata": {},
   "source": [
    "#### Soft Skill data"
   ]
  },
  {
   "cell_type": "code",
   "execution_count": 29,
   "metadata": {},
   "outputs": [],
   "source": [
    "file_name3 = '/Users/rahmanfahd/Downloads/HCA114_Trng-SoftSkill-20210802.xlsx' \n",
    "ss = pd.read_excel(file_name3, index_col=None)"
   ]
  },
  {
   "cell_type": "code",
   "execution_count": 30,
   "metadata": {},
   "outputs": [],
   "source": [
    "#define values\n",
    "values = ['N.H151','N.H150']\n",
    "\n",
    "#drop rows that contain any value in the list\n",
    "#ss = ss[ss.Course Code.isin(values) == False]\n",
    "ss = ss[ss['Course Code'].isin(values) == False]\n",
    "ss1 = ss.groupby(['Staff No.','Staff Name','Course Title'])['Course Code'].apply(', '.join).reset_index()\n",
    "ss1 = ss.groupby(['Staff No.','Staff Name'])['Course Code'].apply(', '.join).reset_index()\n",
    "ss1['Course Code'] = ss1['Course Code'].str.split(', ').apply(pd.unique)\n",
    "ss1['Soft Skill Courses'] = ss1['Course Code'].str.join(', ')"
   ]
  },
  {
   "cell_type": "code",
   "execution_count": 31,
   "metadata": {},
   "outputs": [],
   "source": [
    "final = pd.merge(final, ss1[['Staff No.','Soft Skill Courses']], on='Staff No.', how ='left')"
   ]
  },
  {
   "cell_type": "markdown",
   "metadata": {},
   "source": [
    "#### TPA data"
   ]
  },
  {
   "cell_type": "code",
   "execution_count": 32,
   "metadata": {},
   "outputs": [],
   "source": [
    "file_name4 = '/Users/rahmanfahd/Downloads/HCA114_Trng-TPA-20210802.xlsx' \n",
    "tpa = pd.read_excel(file_name4, index_col=None)"
   ]
  },
  {
   "cell_type": "code",
   "execution_count": 33,
   "metadata": {},
   "outputs": [],
   "source": [
    "tpa1 = tpa.groupby(['Staff No.','Staff Name'])['Course Code'].apply(', '.join).reset_index()\n",
    "tpa1 = tpa.groupby(['Staff No.','Staff Name'])['Course Code'].apply(', '.join).reset_index()\n",
    "tpa1['Course Code'] = tpa1['Course Code'].str.split(', ').apply(pd.unique)\n",
    "tpa1['Course Code'] = tpa1['Course Code'].str.join(', ')\n",
    "tpa1 = tpa1.rename(columns={'Course Code': 'T.PA'})\n",
    "tpa1['T.PA'].apply(sorted);"
   ]
  },
  {
   "cell_type": "code",
   "execution_count": 34,
   "metadata": {},
   "outputs": [],
   "source": [
    "final = pd.merge(final, tpa1[['Staff No.','T.PA']], on='Staff No.', how ='left')"
   ]
  },
  {
   "cell_type": "markdown",
   "metadata": {},
   "source": [
    "#### English data"
   ]
  },
  {
   "cell_type": "code",
   "execution_count": 35,
   "metadata": {},
   "outputs": [],
   "source": [
    "file_name5 = '/Users/rahmanfahd/Downloads/HCA114_Trng-HK601A-20210802.xlsx' \n",
    "eng1 = pd.read_excel(file_name5, index_col=None)\n",
    "eng1['Basic Eng'] = 'TradeEng'"
   ]
  },
  {
   "cell_type": "code",
   "execution_count": 36,
   "metadata": {},
   "outputs": [],
   "source": [
    "file_name6 = '/Users/rahmanfahd/Downloads/HCA114_Trng-L21x-20210802.xlsx' \n",
    "eng2 = pd.read_excel(file_name6, index_col=None)"
   ]
  },
  {
   "cell_type": "code",
   "execution_count": 37,
   "metadata": {},
   "outputs": [],
   "source": [
    "eng2['Courses'] =  eng2['Course Code'].str.split('.').str[1]\n",
    "eng3 = eng2.groupby(['Staff No.','Staff Name'])['Courses'].apply(', '.join).reset_index()\n",
    "eng3 = eng2.groupby(['Staff No.','Staff Name'])['Courses'].apply(', '.join).reset_index()\n",
    "eng3['Course_Codes'] = eng3['Courses'].str.split(', ').apply(pd.unique)\n",
    "\n",
    "eng3 = pd.merge(eng3, eng1[['Staff No.','Basic Eng']], on='Staff No.', how ='outer')\n",
    "eng3['Basic Eng'] = eng3['Basic Eng'].replace(np.nan, \"\")\n",
    "eng3['Courses'] = eng3['Courses'].replace(np.nan, \"\")\n",
    "\n",
    "col         = 'Basic Eng'\n",
    "conditions  = [ (eng3['Basic Eng'] == \"\") & (eng3['Courses'] != \"\"), (eng3['Basic Eng'] == \"\") & (eng3['Courses'] == \"\"), (eng3['Basic Eng'] != \"\") & (eng3['Courses'] != \"\"), (eng3['Basic Eng'] != \"\") & (eng3['Courses'] == \"\")]\n",
    "choices     = [ eng3['Courses'], '', eng3['Courses'] + \", \" + eng3['Basic Eng'], eng3['Basic Eng']]\n",
    "    \n",
    "eng3['English Training Completed'] = np.select(conditions, choices)\n",
    "eng3 = eng3.dropna(subset=['Course_Codes'])\n",
    "eng3['English Level'] = eng3.Course_Codes.apply(max)"
   ]
  },
  {
   "cell_type": "code",
   "execution_count": 38,
   "metadata": {},
   "outputs": [],
   "source": [
    "final = pd.merge(final, eng3[['Staff No.','English Level','English Training Completed']], on='Staff No.', how ='left')"
   ]
  },
  {
   "cell_type": "markdown",
   "metadata": {},
   "source": [
    "#### Sick Leave data"
   ]
  },
  {
   "cell_type": "code",
   "execution_count": 39,
   "metadata": {},
   "outputs": [],
   "source": [
    "file_name7 = '/Users/rahmanfahd/Downloads/HML730-SL-P-20210802.xlsx' \n",
    "sl = pd.read_excel(file_name7, index_col=None)"
   ]
  },
  {
   "cell_type": "code",
   "execution_count": 40,
   "metadata": {
    "scrolled": true
   },
   "outputs": [],
   "source": [
    "#sl['Lv Type'].value_counts()\n",
    "sl[['Start Date','End Date']] = sl[['Start Date','End Date']].apply(pd.to_datetime) #if conversion required\n",
    "sl['days'] = (sl['End Date'] - sl['Start Date']).dt.days + 1\n",
    "sl['all'] = np.where(sl['Lv Sess']=='2',0.5,0)\n",
    "sl['total'] = sl['days']-sl['all']\n",
    "sl['consec'] = np.where(sl['total'] != 1, True, False)\n",
    "\n",
    "#sl['Lv Sess'].value_counts()\n",
    "a = sl.groupby('Staff No',as_index=False).agg({'total':'sum'})\n",
    "sls = sl.loc[sl['consec'] == False]\n",
    "b = sls.groupby('Staff No',as_index=False).agg({'total':'sum'})\n",
    "\n",
    "#a.loc[a['Staff No'] == 201749]\n",
    "#b.loc[b['Staff No'] == 201749]\n",
    "\n",
    "a = pd.merge(a, b, on=\"Staff No\", how='left')\n",
    "a['S/L'] = a['total_y'].astype(str) + \" (\" + a['total_x'].astype(str) + \") \""
   ]
  },
  {
   "cell_type": "code",
   "execution_count": 41,
   "metadata": {},
   "outputs": [],
   "source": [
    "a = a.rename(columns={'Staff No': 'Staff No.'})\n",
    "final = pd.merge(final, a[['Staff No.','S/L']], on='Staff No.', how ='left')"
   ]
  },
  {
   "cell_type": "code",
   "execution_count": 42,
   "metadata": {},
   "outputs": [],
   "source": [
    "final['Staff No.'] = final['Staff No.'].astype(str).str.zfill(6)\n",
    "final['S/L'] = final['S/L'] .fillna('0 (0)')"
   ]
  },
  {
   "cell_type": "markdown",
   "metadata": {},
   "source": [
    "### Final Output"
   ]
  },
  {
   "cell_type": "code",
   "execution_count": 43,
   "metadata": {
    "scrolled": true
   },
   "outputs": [],
   "source": [
    "#pd.set_option('display.max_rows', 1500)\n",
    "#final.head(1500)"
   ]
  },
  {
   "cell_type": "markdown",
   "metadata": {},
   "source": [
    "#### Excel file name"
   ]
  },
  {
   "cell_type": "code",
   "execution_count": 44,
   "metadata": {},
   "outputs": [],
   "source": [
    "#final.to_excel(\"output.xlsx\")"
   ]
  },
  {
   "cell_type": "code",
   "execution_count": 45,
   "metadata": {},
   "outputs": [],
   "source": [
    "mask = final.isnull().any(axis=1)\n",
    "\n",
    "final1 = final[~mask]"
   ]
  },
  {
   "cell_type": "code",
   "execution_count": 46,
   "metadata": {},
   "outputs": [],
   "source": [
    "#final.describe()"
   ]
  },
  {
   "cell_type": "code",
   "execution_count": 47,
   "metadata": {},
   "outputs": [
    {
     "data": {
      "text/html": [
       "<div>\n",
       "<style scoped>\n",
       "    .dataframe tbody tr th:only-of-type {\n",
       "        vertical-align: middle;\n",
       "    }\n",
       "\n",
       "    .dataframe tbody tr th {\n",
       "        vertical-align: top;\n",
       "    }\n",
       "\n",
       "    .dataframe thead th {\n",
       "        text-align: right;\n",
       "    }\n",
       "</style>\n",
       "<table border=\"1\" class=\"dataframe\">\n",
       "  <thead>\n",
       "    <tr style=\"text-align: right;\">\n",
       "      <th></th>\n",
       "      <th>Staff No.</th>\n",
       "      <th>Staff Name</th>\n",
       "      <th>Home Section</th>\n",
       "      <th>Basic License</th>\n",
       "      <th>Auth AC</th>\n",
       "      <th>Auth Eng</th>\n",
       "      <th>Lic AC</th>\n",
       "      <th>Lic Eng</th>\n",
       "      <th>Engrun</th>\n",
       "      <th>AC Sim</th>\n",
       "      <th>Examinar</th>\n",
       "      <th>EASA</th>\n",
       "      <th>Soft Skill Courses</th>\n",
       "      <th>T.PA</th>\n",
       "      <th>English Level</th>\n",
       "      <th>English Training Completed</th>\n",
       "      <th>S/L</th>\n",
       "    </tr>\n",
       "  </thead>\n",
       "  <tbody>\n",
       "  </tbody>\n",
       "</table>\n",
       "</div>"
      ],
      "text/plain": [
       "Empty DataFrame\n",
       "Columns: [Staff No., Staff Name, Home Section, Basic License, Auth AC, Auth Eng, Lic AC, Lic Eng, Engrun, AC Sim, Examinar, EASA, Soft Skill Courses, T.PA, English Level, English Training Completed, S/L]\n",
       "Index: []"
      ]
     },
     "execution_count": 47,
     "metadata": {},
     "output_type": "execute_result"
    }
   ],
   "source": [
    "#final.loc[final['Staff No.'] == '311580']\n"
   ]
  },
  {
   "cell_type": "code",
   "execution_count": 48,
   "metadata": {
    "scrolled": true
   },
   "outputs": [],
   "source": [
    "#pip install pipreqs"
   ]
  },
  {
   "cell_type": "code",
   "execution_count": 49,
   "metadata": {},
   "outputs": [
    {
     "name": "stdout",
     "output_type": "stream",
     "text": [
      "alabaster==0.7.12\r\n",
      "anaconda-client==1.7.2\r\n",
      "anaconda-navigator==1.9.12\r\n",
      "anaconda-project==0.8.3\r\n",
      "applaunchservices==0.2.1\r\n",
      "appnope @ file:///opt/concourse/worker/volumes/live/0291c9e1-4b15-459f-623e-2770f55be269/volume/appnope_1594338395037/work\r\n",
      "appscript @ file:///opt/concourse/worker/volumes/live/50ca4c96-3090-40bb-6981-3a6114ed0af4/volume/appscript_1594840187551/work\r\n",
      "APScheduler==3.6.3\r\n",
      "argh==0.26.2\r\n",
      "asn1crypto @ file:///opt/concourse/worker/volumes/live/29c500db-6cdf-4cc7-7df8-fca74d6f0b64/volume/asn1crypto_1594339172552/work\r\n",
      "astroid @ file:///opt/concourse/worker/volumes/live/21fd14a9-2a7e-484b-7394-5a9912cdcf80/volume/astroid_1592498459180/work\r\n",
      "astropy==4.0.1.post1\r\n",
      "atomicwrites==1.4.0\r\n",
      "attrs==19.3.0\r\n",
      "autopep8 @ file:///tmp/build/80754af9/autopep8_1592412889138/work\r\n",
      "Babel==2.8.0\r\n",
      "backcall==0.2.0\r\n",
      "backports.functools-lru-cache==1.6.1\r\n",
      "backports.shutil-get-terminal-size==1.0.0\r\n",
      "backports.tempfile==1.0\r\n",
      "backports.weakref==1.0.post1\r\n",
      "beautifulsoup4==4.9.1\r\n",
      "bitarray @ file:///opt/concourse/worker/volumes/live/9034c98d-f3e3-4444-48f0-092269ed9919/volume/bitarray_1594753940633/work\r\n",
      "bkcharts==0.2\r\n",
      "bleach==3.1.5\r\n",
      "blis==0.7.4\r\n",
      "bokeh @ file:///opt/concourse/worker/volumes/live/eb4a1f42-db74-4fc3-7f34-0189ef49c1a1/volume/bokeh_1593187606262/work\r\n",
      "boto==2.49.0\r\n",
      "Bottleneck==1.3.2\r\n",
      "brotlipy==0.7.0\r\n",
      "catalogue==1.0.0\r\n",
      "certifi==2020.6.20\r\n",
      "cffi==1.14.0\r\n",
      "chardet==3.0.4\r\n",
      "clarifai==2.6.2\r\n",
      "click==7.1.2\r\n",
      "cloudpickle @ file:///tmp/build/80754af9/cloudpickle_1594141588948/work\r\n",
      "clyent==1.2.2\r\n",
      "colorama==0.4.3\r\n",
      "conda==4.9.0\r\n",
      "conda-build==3.18.11\r\n",
      "conda-package-handling==1.7.0+0.g7c4a471.dirty\r\n",
      "conda-verify==3.4.2\r\n",
      "configparser==3.8.1\r\n",
      "contextlib2==0.6.0.post1\r\n",
      "cryptography==2.9.2\r\n",
      "cycler==0.10.0\r\n",
      "cymem==2.0.5\r\n",
      "Cython @ file:///opt/concourse/worker/volumes/live/6158b663-a4ca-4e19-7e05-8807e4f79146/volume/cython_1594835048880/work\r\n",
      "cytoolz==0.10.1\r\n",
      "dask @ file:///tmp/build/80754af9/dask-core_1594156306305/work\r\n",
      "decorator==4.4.2\r\n",
      "defusedxml==0.6.0\r\n",
      "diff-match-patch @ file:///tmp/build/80754af9/diff-match-patch_1594828741838/work\r\n",
      "distributed @ file:///opt/concourse/worker/volumes/live/ec098701-cad7-4317-4576-0365c5f66992/volume/distributed_1594350140096/work\r\n",
      "docopt==0.6.2\r\n",
      "docutils==0.16\r\n",
      "EasyProcess==0.3\r\n",
      "emoji==0.6.0\r\n",
      "entrypoints==0.3\r\n",
      "enum34==1.1.10\r\n",
      "et-xmlfile==1.0.1\r\n",
      "fastai==1.0.53\r\n",
      "fastcache==1.1.0\r\n",
      "fastcore @ git+https://github.com/fastai/fastcore@b641e301cbb759b876049d074d39a8b2435f562d\r\n",
      "fastprogress @ git+https://github.com/fastai/fastprogress@d58d85684c3a7069b1aba18f1dbc8b3e686bfece\r\n",
      "filelock==3.0.12\r\n",
      "flake8==3.8.3\r\n",
      "Flask==1.1.2\r\n",
      "fsspec==0.7.4\r\n",
      "future==0.18.2\r\n",
      "gevent @ file:///opt/concourse/worker/volumes/live/78aec834-bbf0-47a7-799f-96dd2cf589ab/volume/gevent_1593009579767/work\r\n",
      "glob2==0.7\r\n",
      "gmpy2==2.0.8\r\n",
      "googleapis-common-protos==1.52.0\r\n",
      "greenlet==0.4.16\r\n",
      "grpcio==1.34.0\r\n",
      "h5py==2.10.0\r\n",
      "HeapDict==1.0.1\r\n",
      "html5lib @ file:///tmp/build/80754af9/html5lib_1593446221756/work\r\n",
      "idna @ file:///tmp/build/80754af9/idna_1593446292537/work\r\n",
      "imageio @ file:///tmp/build/80754af9/imageio_1594161405741/work\r\n",
      "imagesize==1.2.0\r\n",
      "importlib-metadata @ file:///opt/concourse/worker/volumes/live/290b74d5-e5f3-47ff-7257-17b3c9ccecab/volume/importlib-metadata_1593446478206/work\r\n",
      "instapy==0.2.3\r\n",
      "instapy-chromedriver==2.46\r\n",
      "intervaltree @ file:///tmp/build/80754af9/intervaltree_1594361675072/work\r\n",
      "ipykernel @ file:///opt/concourse/worker/volumes/live/cb5649db-6f30-435c-6981-1014aa39f028/volume/ipykernel_1594755378873/work/dist/ipykernel-5.3.2-py3-none-any.whl\r\n",
      "ipython @ file:///opt/concourse/worker/volumes/live/41e43e2f-bbbe-4c76-44fb-a6de0e826dd8/volume/ipython_1593447396701/work\r\n",
      "ipython-genutils==0.2.0\r\n",
      "ipywidgets==7.5.1\r\n",
      "isort==4.3.21\r\n",
      "itsdangerous==1.1.0\r\n",
      "jdcal==1.4.1\r\n",
      "jedi @ file:///opt/concourse/worker/volumes/live/1c5c293b-9147-4b4b-5a7f-d3f5eddb8470/volume/jedi_1592841952519/work\r\n",
      "Jinja2==2.11.2\r\n",
      "joblib @ file:///tmp/build/80754af9/joblib_1594236160679/work\r\n",
      "json5==0.9.5\r\n",
      "jsonschema @ file:///opt/concourse/worker/volumes/live/eb4c8c81-7935-47c9-5666-5999d5c44d03/volume/jsonschema_1594303899222/work\r\n",
      "jupyter==1.0.0\r\n",
      "jupyter-client @ file:///tmp/build/80754af9/jupyter_client_1594826976318/work\r\n",
      "jupyter-console==6.1.0\r\n",
      "jupyter-core==4.6.3\r\n",
      "jupyterlab==2.1.5\r\n",
      "jupyterlab-server @ file:///tmp/build/80754af9/jupyterlab_server_1594164409481/work\r\n",
      "keyring @ file:///opt/concourse/worker/volumes/live/f2a8edc0-64b5-40f0-5d81-bbd31149cbe1/volume/keyring_1593109772159/work\r\n",
      "kiwisolver==1.2.0\r\n",
      "lazy-object-proxy==1.4.3\r\n",
      "libarchive-c==2.9\r\n",
      "llvmlite==0.33.0+1.g022ab0f\r\n",
      "locket==0.2.0\r\n",
      "lxml @ file:///opt/concourse/worker/volumes/live/d42457f0-83be-4fb6-6c8d-8f9319a861b0/volume/lxml_1594826854945/work\r\n",
      "MarkupSafe @ file:///opt/concourse/worker/volumes/live/cb778296-98db-45ad-411e-6f726e102dc3/volume/markupsafe_1594371638608/work\r\n",
      "matplotlib @ file:///opt/concourse/worker/volumes/live/59859a4b-794b-4c9f-51fd-a0ac1d1ab595/volume/matplotlib-base_1592846058943/work\r\n",
      "mccabe==0.6.1\r\n",
      "MeaningCloud-python==2.0.0\r\n",
      "mistune @ file:///opt/concourse/worker/volumes/live/95802d64-d39c-491b-74ce-b9326880ca54/volume/mistune_1594373201816/work\r\n",
      "mkl-fft==1.1.0\r\n",
      "mkl-random==1.1.1\r\n",
      "mkl-service==2.3.0\r\n",
      "mock==4.0.2\r\n",
      "more-itertools==8.4.0\r\n",
      "mpmath==1.1.0\r\n",
      "msgpack==1.0.0\r\n",
      "multipledispatch==0.6.0\r\n",
      "murmurhash==1.0.5\r\n",
      "navigator-updater==0.2.1\r\n",
      "nbconvert @ file:///opt/concourse/worker/volumes/live/70406b39-619d-477e-7507-0cc36a02f91a/volume/nbconvert_1594376816864/work\r\n",
      "nbformat==5.0.7\r\n",
      "networkx @ file:///tmp/build/80754af9/networkx_1594377231366/work\r\n",
      "nltk @ file:///tmp/build/80754af9/nltk_1592496090529/work\r\n",
      "nose @ file:///opt/concourse/worker/volumes/live/a029938e-1732-4cd8-5b98-0542283d158b/volume/nose_1594377915100/work\r\n",
      "notebook==6.0.3\r\n",
      "numba==0.50.1\r\n",
      "numexpr==2.7.1\r\n",
      "numpy==1.18.5\r\n",
      "numpydoc @ file:///tmp/build/80754af9/numpydoc_1594166760263/work\r\n",
      "olefile==0.46\r\n",
      "opencv-python==4.5.1.48\r\n",
      "openpyxl @ file:///tmp/build/80754af9/openpyxl_1594167385094/work\r\n",
      "packaging==20.4\r\n",
      "pandas @ file:///opt/concourse/worker/volumes/live/5ef6147e-ea92-446e-4065-0c8c7435293f/volume/pandas_1592841676717/work\r\n",
      "pandas-ml==0.6.1\r\n",
      "pandocfilters==1.4.2\r\n",
      "parso==0.7.0\r\n",
      "partd==1.1.0\r\n",
      "path==13.1.0\r\n",
      "pathlib2 @ file:///opt/concourse/worker/volumes/live/de518564-0d9f-405e-472b-38136f0c2169/volume/pathlib2_1594381084269/work\r\n",
      "pathtools==0.1.2\r\n",
      "patsy==0.5.1\r\n",
      "pep8==1.7.1\r\n",
      "pexpect @ file:///opt/concourse/worker/volumes/live/8701bb20-ad87-46c7-5108-30c178cf97e5/volume/pexpect_1594383388344/work\r\n",
      "pickleshare @ file:///opt/concourse/worker/volumes/live/93ec39d8-05bb-4f84-7efc-98735bc39b70/volume/pickleshare_1594384101884/work\r\n",
      "Pillow @ file:///opt/concourse/worker/volumes/live/be1e8a56-c4be-4ffe-4fa7-5a0e9c460b1a/volume/pillow_1594307312933/work\r\n",
      "pipreqs==0.4.11\r\n",
      "pkginfo==1.5.0.1\r\n",
      "plac==1.1.3\r\n",
      "pluggy==0.13.1\r\n",
      "ply==3.11\r\n",
      "plyer==2.0.0\r\n",
      "preshed==3.0.5\r\n",
      "prometheus-client==0.8.0\r\n",
      "prompt-toolkit==3.0.5\r\n",
      "protobuf==3.14.0\r\n",
      "psutil==5.7.0\r\n",
      "ptyprocess==0.6.0\r\n",
      "py @ file:///tmp/build/80754af9/py_1593446248552/work\r\n",
      "pycodestyle==2.6.0\r\n",
      "pycosat==0.6.3\r\n",
      "pycparser @ file:///tmp/build/80754af9/pycparser_1594388511720/work\r\n",
      "pycurl==7.43.0.5\r\n",
      "pydocstyle @ file:///tmp/build/80754af9/pydocstyle_1592848020240/work\r\n",
      "pyflakes==2.2.0\r\n",
      "Pygments==2.6.1\r\n",
      "pylint==2.6.0\r\n",
      "pyodbc===4.0.0-unsupported\r\n",
      "pyOpenSSL @ file:///tmp/build/80754af9/pyopenssl_1594392929924/work\r\n",
      "pyparsing==2.4.7\r\n",
      "pyrsistent==0.16.0\r\n",
      "PySocks @ file:///opt/concourse/worker/volumes/live/85a5b906-0e08-41d9-6f59-084cee4e9492/volume/pysocks_1594394636991/work\r\n",
      "pytest==5.4.3\r\n",
      "python-dateutil==2.8.1\r\n",
      "python-jsonrpc-server @ file:///tmp/build/80754af9/python-jsonrpc-server_1594397536060/work\r\n",
      "python-language-server @ file:///opt/concourse/worker/volumes/live/5f0313b4-ff69-4d9d-5c31-e01b223dabd6/volume/python-language-server_1594161914367/work\r\n",
      "python-telegram-bot==13.1\r\n",
      "pytz==2020.1\r\n",
      "PyVirtualDisplay==1.3.2\r\n",
      "PyWavelets==1.1.1\r\n",
      "PyYAML==5.3.1\r\n",
      "pyzmq==19.0.1\r\n",
      "QDarkStyle==2.8.1\r\n",
      "QtAwesome==0.7.2\r\n",
      "qtconsole @ file:///tmp/build/80754af9/qtconsole_1592848611704/work\r\n",
      "QtPy==1.9.0\r\n",
      "regex @ file:///opt/concourse/worker/volumes/live/93a9c6ee-7d77-4975-4d26-29732dd5574b/volume/regex_1593435592218/work\r\n",
      "requests @ file:///tmp/build/80754af9/requests_1592841827918/work\r\n",
      "rope==0.17.0\r\n",
      "Rtree==0.9.4\r\n",
      "ruamel-yaml==0.15.87\r\n",
      "scikit-image==0.16.2\r\n",
      "scikit-learn @ file:///opt/concourse/worker/volumes/live/47a3ec7c-70dc-43c0-7317-def24a8afaf5/volume/scikit-learn_1592503037057/work\r\n",
      "scipy @ file:///opt/concourse/worker/volumes/live/7f5e51f8-abf3-4409-4c56-a4fb14cc9869/volume/scipy_1593104185999/work\r\n",
      "seaborn==0.10.1\r\n",
      "selenium==3.141.0\r\n",
      "Send2Trash==1.5.0\r\n",
      "simplegeneric==0.8.1\r\n",
      "singledispatch==3.4.0.3\r\n",
      "six==1.15.0\r\n",
      "snowballstemmer==2.0.0\r\n",
      "sortedcollections==1.2.1\r\n",
      "sortedcontainers==2.2.2\r\n",
      "soupsieve==2.0.1\r\n",
      "spacy==2.3.5\r\n",
      "Sphinx @ file:///tmp/build/80754af9/sphinx_1594223420021/work\r\n",
      "sphinxcontrib-applehelp==1.0.2\r\n",
      "sphinxcontrib-devhelp==1.0.2\r\n",
      "sphinxcontrib-htmlhelp==1.0.3\r\n",
      "sphinxcontrib-jsmath==1.0.1\r\n",
      "sphinxcontrib-qthelp==1.0.3\r\n",
      "sphinxcontrib-serializinghtml==1.1.4\r\n",
      "sphinxcontrib-websupport @ file:///tmp/build/80754af9/sphinxcontrib-websupport_1593446360927/work\r\n",
      "spyder @ file:///opt/concourse/worker/volumes/live/0e97f897-b36b-4f78-7283-e99903208a48/volume/spyder_1594831780108/work\r\n",
      "spyder-kernels @ file:///opt/concourse/worker/volumes/live/682c8d56-759f-49eb-7914-dbce4a625209/volume/spyder-kernels_1594751614984/work\r\n",
      "SQLAlchemy @ file:///opt/concourse/worker/volumes/live/45657106-f60d-42e1-6501-7d65be3b36ab/volume/sqlalchemy_1593446313078/work\r\n",
      "srsly==1.0.5\r\n",
      "statsmodels==0.11.1\r\n",
      "sympy @ file:///opt/concourse/worker/volumes/live/32ef3b19-6d5e-459b-54bf-1bfa312324b4/volume/sympy_1594236601710/work\r\n",
      "tables==3.6.1\r\n",
      "tblib==1.6.0\r\n",
      "terminado==0.8.3\r\n",
      "testpath==0.4.4\r\n",
      "thinc==7.4.5\r\n",
      "threadpoolctl @ file:///tmp/tmp9twdgx9k/threadpoolctl-2.1.0-py3-none-any.whl\r\n",
      "toml @ file:///tmp/build/80754af9/toml_1592853716807/work\r\n",
      "toolz==0.10.0\r\n",
      "torch==1.7.1\r\n",
      "torchtext==0.2.3\r\n",
      "torchvision==0.8.2\r\n",
      "tornado==6.0.4\r\n",
      "tqdm @ file:///tmp/build/80754af9/tqdm_1593446365756/work\r\n",
      "traitlets==4.3.3\r\n",
      "typing-extensions @ file:///tmp/build/80754af9/typing_extensions_1592847887441/work\r\n",
      "tzlocal==2.1\r\n",
      "ujson==1.35\r\n",
      "unicodecsv==0.14.1\r\n",
      "urllib3==1.25.9\r\n",
      "wasabi @ file:///tmp/build/80754af9/wasabi_1599244993840/work\r\n",
      "watchdog @ file:///opt/concourse/worker/volumes/live/cc0ee7bb-1065-44c4-5867-0fd5d13729e0/volume/watchdog_1593447373245/work\r\n",
      "wcwidth @ file:///tmp/build/80754af9/wcwidth_1593447189090/work\r\n",
      "webdriverdownloader==1.1.0.3\r\n",
      "webencodings==0.5.1\r\n",
      "Werkzeug==1.0.1\r\n",
      "widgetsnbextension==3.5.1\r\n",
      "wrapt==1.11.2\r\n",
      "wurlitzer @ file:///opt/concourse/worker/volumes/live/01a17f3d-eafe-4806-57a1-4b9ef5d1815f/volume/wurlitzer_1594753845129/work\r\n",
      "xlrd==1.2.0\r\n",
      "XlsxWriter==1.2.9\r\n",
      "xlwings==0.19.5\r\n",
      "xlwt==1.3.0\r\n",
      "xmltodict==0.12.0\r\n",
      "yapf @ file:///tmp/build/80754af9/yapf_1593528177422/work\r\n",
      "yarg==0.1.9\r\n",
      "zict==2.0.0\r\n",
      "zipp==3.1.0\r\n",
      "zope.event==4.4\r\n",
      "zope.interface==4.7.1\r\n"
     ]
    },
    {
     "name": "stdout",
     "output_type": "stream",
     "text": [
      "Note: you may need to restart the kernel to use updated packages.\n"
     ]
    }
   ],
   "source": [
    "pip freeze"
   ]
  },
  {
   "cell_type": "code",
   "execution_count": null,
   "metadata": {},
   "outputs": [],
   "source": []
  }
 ],
 "metadata": {
  "kernelspec": {
   "display_name": "Python 3",
   "language": "python",
   "name": "python3"
  },
  "language_info": {
   "codemirror_mode": {
    "name": "ipython",
    "version": 3
   },
   "file_extension": ".py",
   "mimetype": "text/x-python",
   "name": "python",
   "nbconvert_exporter": "python",
   "pygments_lexer": "ipython3",
   "version": "3.8.3"
  }
 },
 "nbformat": 4,
 "nbformat_minor": 4
}
